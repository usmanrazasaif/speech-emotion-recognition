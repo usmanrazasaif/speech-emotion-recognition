{
  "cells": [
    {
      "cell_type": "markdown",
      "metadata": {
        "id": "1-UR1c6YWtPH"
      },
      "source": [
        "# Importing Libraries"
      ]
    },
    {
      "cell_type": "code",
      "execution_count": null,
      "metadata": {
        "id": "W2aQ7mSkWaGb"
      },
      "outputs": [],
      "source": [
        "import os\n",
        "import numpy as np\n",
        "import pandas as pd\n",
        "import torch\n",
        "import torch.nn as nn\n",
        "import seaborn as sn\n",
        "import librosa\n",
        "import librosa.display\n",
        "import IPython\n",
        "from IPython.display import Audio\n",
        "from IPython.display import Image\n",
        "from sklearn.preprocessing import StandardScaler\n",
        "from sklearn.metrics import confusion_matrix\n",
        "from sklearn.metrics import classification_report\n",
        "import matplotlib.pyplot as plt"
      ]
    },
    {
      "cell_type": "markdown",
      "metadata": {
        "id": "mKpSEFusXgLA"
      },
      "source": [
        "# Loading Dataset"
      ]
    },
    {
      "cell_type": "code",
      "execution_count": null,
      "metadata": {
        "id": "FTJqzYF3XmUu"
      },
      "outputs": [],
      "source": [
        "DATA_PATH = '/content/Data/ravdess' # Change path acording to your computer\n",
        "SAMPLE_RATE = 48000\n",
        "EMOTIONS = {1:'neutral', 2:'calm', 3:'happy', 4:'sad', 5:'angry', 6:'fear', 7:'disgust', 0:'surprise'}\n",
        "\n",
        "data = pd.DataFrame(columns=['Emotion', 'Emotion intensity', 'Gender','Path'])\n",
        "for dirname, _, filenames in os.walk(DATA_PATH):\n",
        "    for filename in filenames:\n",
        "        file_path = os.path.join('/content/Data/ravdess/',dirname, filename) # Change path acording to your computer\n",
        "        identifiers = filename.split('.')[0].split('-')\n",
        "        emotion = (int(identifiers[2]))\n",
        "        if emotion == 8:\n",
        "            emotion = 0\n",
        "        if int(identifiers[3]) == 1:\n",
        "            emotion_intensity = 'normal'\n",
        "        else:\n",
        "            emotion_intensity = 'strong'\n",
        "        if int(identifiers[6])%2 == 0:\n",
        "            gender = 'female'\n",
        "        else:\n",
        "            gender = 'male'\n",
        "\n",
        "        data = data.append({\"Emotion\": emotion,\n",
        "                            \"Emotion intensity\": emotion_intensity,\n",
        "                            \"Gender\": gender,\n",
        "                            \"Path\": file_path\n",
        "                             },\n",
        "                             ignore_index = True\n",
        "                          )"
      ]
    },
    {
      "cell_type": "code",
      "execution_count": null,
      "metadata": {
        "colab": {
          "base_uri": "https://localhost:8080/",
          "height": 224
        },
        "id": "gv6R4oI9X16K",
        "outputId": "6286ae59-a356-4238-dacc-8711c1dfe4a6"
      },
      "outputs": [
        {
          "output_type": "stream",
          "name": "stdout",
          "text": [
            "number of files is 1440\n"
          ]
        },
        {
          "output_type": "execute_result",
          "data": {
            "text/html": [
              "\n",
              "  <div id=\"df-e00d40ac-d779-4664-ac47-f748ce611a76\">\n",
              "    <div class=\"colab-df-container\">\n",
              "      <div>\n",
              "<style scoped>\n",
              "    .dataframe tbody tr th:only-of-type {\n",
              "        vertical-align: middle;\n",
              "    }\n",
              "\n",
              "    .dataframe tbody tr th {\n",
              "        vertical-align: top;\n",
              "    }\n",
              "\n",
              "    .dataframe thead th {\n",
              "        text-align: right;\n",
              "    }\n",
              "</style>\n",
              "<table border=\"1\" class=\"dataframe\">\n",
              "  <thead>\n",
              "    <tr style=\"text-align: right;\">\n",
              "      <th></th>\n",
              "      <th>Emotion</th>\n",
              "      <th>Emotion intensity</th>\n",
              "      <th>Gender</th>\n",
              "      <th>Path</th>\n",
              "    </tr>\n",
              "  </thead>\n",
              "  <tbody>\n",
              "    <tr>\n",
              "      <th>0</th>\n",
              "      <td>7</td>\n",
              "      <td>normal</td>\n",
              "      <td>male</td>\n",
              "      <td>/content/Data/ravdess/Actor_15/03-01-07-01-01-...</td>\n",
              "    </tr>\n",
              "    <tr>\n",
              "      <th>1</th>\n",
              "      <td>2</td>\n",
              "      <td>strong</td>\n",
              "      <td>male</td>\n",
              "      <td>/content/Data/ravdess/Actor_15/03-01-02-02-01-...</td>\n",
              "    </tr>\n",
              "    <tr>\n",
              "      <th>2</th>\n",
              "      <td>2</td>\n",
              "      <td>normal</td>\n",
              "      <td>male</td>\n",
              "      <td>/content/Data/ravdess/Actor_15/03-01-02-01-01-...</td>\n",
              "    </tr>\n",
              "    <tr>\n",
              "      <th>3</th>\n",
              "      <td>4</td>\n",
              "      <td>strong</td>\n",
              "      <td>male</td>\n",
              "      <td>/content/Data/ravdess/Actor_15/03-01-04-02-01-...</td>\n",
              "    </tr>\n",
              "    <tr>\n",
              "      <th>4</th>\n",
              "      <td>0</td>\n",
              "      <td>normal</td>\n",
              "      <td>male</td>\n",
              "      <td>/content/Data/ravdess/Actor_15/03-01-08-01-01-...</td>\n",
              "    </tr>\n",
              "  </tbody>\n",
              "</table>\n",
              "</div>\n",
              "      <button class=\"colab-df-convert\" onclick=\"convertToInteractive('df-e00d40ac-d779-4664-ac47-f748ce611a76')\"\n",
              "              title=\"Convert this dataframe to an interactive table.\"\n",
              "              style=\"display:none;\">\n",
              "        \n",
              "  <svg xmlns=\"http://www.w3.org/2000/svg\" height=\"24px\"viewBox=\"0 0 24 24\"\n",
              "       width=\"24px\">\n",
              "    <path d=\"M0 0h24v24H0V0z\" fill=\"none\"/>\n",
              "    <path d=\"M18.56 5.44l.94 2.06.94-2.06 2.06-.94-2.06-.94-.94-2.06-.94 2.06-2.06.94zm-11 1L8.5 8.5l.94-2.06 2.06-.94-2.06-.94L8.5 2.5l-.94 2.06-2.06.94zm10 10l.94 2.06.94-2.06 2.06-.94-2.06-.94-.94-2.06-.94 2.06-2.06.94z\"/><path d=\"M17.41 7.96l-1.37-1.37c-.4-.4-.92-.59-1.43-.59-.52 0-1.04.2-1.43.59L10.3 9.45l-7.72 7.72c-.78.78-.78 2.05 0 2.83L4 21.41c.39.39.9.59 1.41.59.51 0 1.02-.2 1.41-.59l7.78-7.78 2.81-2.81c.8-.78.8-2.07 0-2.86zM5.41 20L4 18.59l7.72-7.72 1.47 1.35L5.41 20z\"/>\n",
              "  </svg>\n",
              "      </button>\n",
              "      \n",
              "  <style>\n",
              "    .colab-df-container {\n",
              "      display:flex;\n",
              "      flex-wrap:wrap;\n",
              "      gap: 12px;\n",
              "    }\n",
              "\n",
              "    .colab-df-convert {\n",
              "      background-color: #E8F0FE;\n",
              "      border: none;\n",
              "      border-radius: 50%;\n",
              "      cursor: pointer;\n",
              "      display: none;\n",
              "      fill: #1967D2;\n",
              "      height: 32px;\n",
              "      padding: 0 0 0 0;\n",
              "      width: 32px;\n",
              "    }\n",
              "\n",
              "    .colab-df-convert:hover {\n",
              "      background-color: #E2EBFA;\n",
              "      box-shadow: 0px 1px 2px rgba(60, 64, 67, 0.3), 0px 1px 3px 1px rgba(60, 64, 67, 0.15);\n",
              "      fill: #174EA6;\n",
              "    }\n",
              "\n",
              "    [theme=dark] .colab-df-convert {\n",
              "      background-color: #3B4455;\n",
              "      fill: #D2E3FC;\n",
              "    }\n",
              "\n",
              "    [theme=dark] .colab-df-convert:hover {\n",
              "      background-color: #434B5C;\n",
              "      box-shadow: 0px 1px 3px 1px rgba(0, 0, 0, 0.15);\n",
              "      filter: drop-shadow(0px 1px 2px rgba(0, 0, 0, 0.3));\n",
              "      fill: #FFFFFF;\n",
              "    }\n",
              "  </style>\n",
              "\n",
              "      <script>\n",
              "        const buttonEl =\n",
              "          document.querySelector('#df-e00d40ac-d779-4664-ac47-f748ce611a76 button.colab-df-convert');\n",
              "        buttonEl.style.display =\n",
              "          google.colab.kernel.accessAllowed ? 'block' : 'none';\n",
              "\n",
              "        async function convertToInteractive(key) {\n",
              "          const element = document.querySelector('#df-e00d40ac-d779-4664-ac47-f748ce611a76');\n",
              "          const dataTable =\n",
              "            await google.colab.kernel.invokeFunction('convertToInteractive',\n",
              "                                                     [key], {});\n",
              "          if (!dataTable) return;\n",
              "\n",
              "          const docLinkHtml = 'Like what you see? Visit the ' +\n",
              "            '<a target=\"_blank\" href=https://colab.research.google.com/notebooks/data_table.ipynb>data table notebook</a>'\n",
              "            + ' to learn more about interactive tables.';\n",
              "          element.innerHTML = '';\n",
              "          dataTable['output_type'] = 'display_data';\n",
              "          await google.colab.output.renderOutput(dataTable, element);\n",
              "          const docLink = document.createElement('div');\n",
              "          docLink.innerHTML = docLinkHtml;\n",
              "          element.appendChild(docLink);\n",
              "        }\n",
              "      </script>\n",
              "    </div>\n",
              "  </div>\n",
              "  "
            ],
            "text/plain": [
              "  Emotion  ...                                               Path\n",
              "0       7  ...  /content/Data/ravdess/Actor_15/03-01-07-01-01-...\n",
              "1       2  ...  /content/Data/ravdess/Actor_15/03-01-02-02-01-...\n",
              "2       2  ...  /content/Data/ravdess/Actor_15/03-01-02-01-01-...\n",
              "3       4  ...  /content/Data/ravdess/Actor_15/03-01-04-02-01-...\n",
              "4       0  ...  /content/Data/ravdess/Actor_15/03-01-08-01-01-...\n",
              "\n",
              "[5 rows x 4 columns]"
            ]
          },
          "metadata": {},
          "execution_count": 6
        }
      ],
      "source": [
        "print(\"number of files is {}\".format(len(data)))\n",
        "data.head() # Printing first 5 rows of data"
      ]
    },
    {
      "cell_type": "markdown",
      "metadata": {
        "id": "R_-tDRxkX98g"
      },
      "source": [
        "# EDA - Visualization"
      ]
    },
    {
      "cell_type": "code",
      "execution_count": null,
      "metadata": {
        "colab": {
          "base_uri": "https://localhost:8080/",
          "height": 300
        },
        "id": "8kgBg_RHYMwg",
        "outputId": "f7f1c9e9-b2ed-4cad-ed3c-b4457cbac774"
      },
      "outputs": [
        {
          "output_type": "execute_result",
          "data": {
            "text/plain": [
              "Text(0, 0.5, 'Number of examples')"
            ]
          },
          "metadata": {},
          "execution_count": 7
        },
        {
          "output_type": "display_data",
          "data": {
            "image/png": "[encoded data removed]",
            "text/plain": [
              "<Figure size 432x288 with 1 Axes>"
            ]
          },
          "metadata": {
            "needs_background": "light"
          }
        }
      ],
      "source": [
        "# Number of Examples Per Emotion\n",
        "\n",
        "fig = plt.figure()\n",
        "ax = fig.add_subplot(111)\n",
        "ax.bar(x=range(8), height=data['Emotion'].value_counts())\n",
        "ax.set_xticks(ticks=range(8))\n",
        "ax.set_xticklabels([EMOTIONS[i] for i in range(8)],fontsize=10)\n",
        "ax.set_xlabel('Emotions')\n",
        "ax.set_ylabel('Number of examples')"
      ]
    },
    {
      "cell_type": "code",
      "execution_count": null,
      "metadata": {
        "colab": {
          "base_uri": "https://localhost:8080/",
          "height": 297
        },
        "id": "WwJ3E9A4YNJY",
        "outputId": "2fdc5644-92ff-4370-fa38-935ec888121d"
      },
      "outputs": [
        {
          "output_type": "execute_result",
          "data": {
            "text/plain": [
              "Text(0, 0.5, 'Number of examples')"
            ]
          },
          "metadata": {},
          "execution_count": 8
        },
        {
          "output_type": "display_data",
          "data": {
            "image/png": "[encoded data removed]",
            "text/plain": [
              "<Figure size 432x288 with 1 Axes>"
            ]
          },
          "metadata": {
            "needs_background": "light"
          }
        }
      ],
      "source": [
        "# Number of Examples Per Gender\n",
        "\n",
        "fig = plt.figure()\n",
        "ax = fig.add_subplot(111)\n",
        "counts = data['Gender'].value_counts()\n",
        "ax.bar(x=[0,1], height=counts.values)\n",
        "ax.set_xticks(ticks=[0,1])\n",
        "ax.set_xticklabels(list(counts.index))\n",
        "ax.set_xlabel('Gender')\n",
        "ax.set_ylabel('Number of examples')"
      ]
    },
    {
      "cell_type": "code",
      "execution_count": null,
      "metadata": {
        "colab": {
          "base_uri": "https://localhost:8080/",
          "height": 300
        },
        "id": "mDGomXaJYQcY",
        "outputId": "4c9f6ee8-6c7b-45e0-86fe-8375b59e61a1"
      },
      "outputs": [
        {
          "output_type": "execute_result",
          "data": {
            "text/plain": [
              "Text(0, 0.5, 'Number of examples')"
            ]
          },
          "metadata": {},
          "execution_count": 9
        },
        {
          "output_type": "display_data",
          "data": {
            "image/png": "[encoded data removed]",
            "text/plain": [
              "<Figure size 432x288 with 1 Axes>"
            ]
          },
          "metadata": {
            "needs_background": "light"
          }
        }
      ],
      "source": [
        "# Number of Examples Per Emotion Intensity\n",
        "\n",
        "fig = plt.figure()\n",
        "ax = fig.add_subplot(111)\n",
        "counts = data['Emotion intensity'].value_counts()\n",
        "ax.bar(x=[0,1], height=counts.values)\n",
        "ax.set_xticks(ticks=[0,1])\n",
        "ax.set_xticklabels(list(counts.index))\n",
        "ax.set_xlabel('Gender')\n",
        "ax.set_ylabel('Number of examples')"
      ]
    },
    {
      "cell_type": "markdown",
      "metadata": {
        "id": "EzCqXmWZY40q"
      },
      "source": [
        "# Calculating Mel Spectrogram"
      ]
    },
    {
      "cell_type": "code",
      "execution_count": null,
      "metadata": {
        "colab": {
          "base_uri": "https://localhost:8080/",
          "height": 297
        },
        "id": "FTZlS-ZmZjNN",
        "outputId": "0a9825aa-8ff0-4522-ff67-0de9cfdadb41"
      },
      "outputs": [
        {
          "output_type": "stream",
          "name": "stdout",
          "text": [
            "MEL spectrogram shape:  (128, 563)\n"
          ]
        },
        {
          "output_type": "display_data",
          "data": {
            "image/png": "[encoded data removed]",
            "text/plain": [
              "<Figure size 432x288 with 1 Axes>"
            ]
          },
          "metadata": {
            "needs_background": "light"
          }
        }
      ],
      "source": [
        "def getMELspectrogram(audio, sample_rate):\n",
        "    mel_spec = librosa.feature.melspectrogram(y=audio,\n",
        "                                              sr=sample_rate,\n",
        "                                              n_fft=1024,\n",
        "                                              hop_length = 256,\n",
        "                                              n_mels=128,\n",
        "                                              fmax=sample_rate/2)\n",
        "    mel_spec_db = librosa.power_to_db(mel_spec, ref=np.max)\n",
        "    return mel_spec_db\n",
        "\n",
        "# Test Function\n",
        "audio, sample_rate = librosa.load(data.loc[0,'Path'], duration=3, offset=0.5,sr=SAMPLE_RATE)\n",
        "signal = np.zeros((int(SAMPLE_RATE*3,)))\n",
        "signal[:len(audio)] = audio\n",
        "mel_spectrogram = getMELspectrogram(signal, SAMPLE_RATE)\n",
        "librosa.display.specshow(mel_spectrogram, y_axis='mel', x_axis='time')\n",
        "print('MEL spectrogram shape: ',mel_spectrogram.shape)"
      ]
    },
    {
      "cell_type": "code",
      "execution_count": null,
      "metadata": {
        "colab": {
          "base_uri": "https://localhost:8080/"
        },
        "id": "O6rSANR8Zpoz",
        "outputId": "160a4c9f-ca68-4a85-e67b-8d99d363b30a"
      },
      "outputs": [
        {
          "output_type": "stream",
          "name": "stdout",
          "text": [
            " Processed 1439/1440 files"
          ]
        }
      ],
      "source": [
        "# Calculate Mel Spectrograms for All Audio Files (This can take few minutes to execute)\n",
        "\n",
        "mel_spectrograms = []\n",
        "signals = []\n",
        "for i, file_path in enumerate(data.Path):\n",
        "    audio, sample_rate = librosa.load(file_path, duration=3, offset=0.5, sr=SAMPLE_RATE)\n",
        "    signal = np.zeros((int(SAMPLE_RATE*3,)))\n",
        "    signal[:len(audio)] = audio\n",
        "    signals.append(signal)\n",
        "    mel_spectrogram = getMELspectrogram(signal, sample_rate=SAMPLE_RATE)\n",
        "    mel_spectrograms.append(mel_spectrogram)\n",
        "    print(\"\\r Processed {}/{} files\".format(i,len(data)),end='')"
      ]
    },
    {
      "cell_type": "markdown",
      "metadata": {
        "id": "JDgc1T7zZiwi"
      },
      "source": [
        "# Data Augmentation"
      ]
    },
    {
      "cell_type": "code",
      "execution_count": null,
      "metadata": {
        "id": "AZhebxDyaLnq"
      },
      "outputs": [],
      "source": [
        "# Augment signals (by adding AWGN - Additive White Guassian Noise) and calculate mel spectrograms\n",
        "\n",
        "def addAWGN(signal, num_bits=16, augmented_num=2, snr_low=15, snr_high=30):\n",
        "    signal_len = len(signal)\n",
        "    # Generate White Gaussian noise\n",
        "    noise = np.random.normal(size=(augmented_num, signal_len))\n",
        "    # Normalize signal and noise\n",
        "    norm_constant = 2.0**(num_bits-1)\n",
        "    signal_norm = signal / norm_constant\n",
        "    noise_norm = noise / norm_constant\n",
        "    # Compute signal and noise power\n",
        "    s_power = np.sum(signal_norm ** 2) / signal_len\n",
        "    n_power = np.sum(noise_norm ** 2, axis=1) / signal_len\n",
        "    # Random SNR: Uniform [15, 30] in dB\n",
        "    target_snr = np.random.randint(snr_low, snr_high)\n",
        "    # Compute K (covariance matrix) for each noise\n",
        "    K = np.sqrt((s_power / n_power) * 10 ** (- target_snr / 10))\n",
        "    K = np.ones((signal_len, augmented_num)) * K\n",
        "    # Generate noisy signal\n",
        "    return signal + K.T * noise"
      ]
    },
    {
      "cell_type": "code",
      "execution_count": null,
      "metadata": {
        "colab": {
          "base_uri": "https://localhost:8080/"
        },
        "id": "oDaUz2VHe3P0",
        "outputId": "fc2bd725-9cd3-42ac-9068-6c8430958408"
      },
      "outputs": [
        {
          "output_type": "stream",
          "name": "stdout",
          "text": [
            " Processed 1439/1440 files"
          ]
        }
      ],
      "source": [
        "for i,signal in enumerate(signals):\n",
        "    augmented_signals = addAWGN(signal)\n",
        "    for j in range(augmented_signals.shape[0]):\n",
        "        mel_spectrogram = getMELspectrogram(augmented_signals[j,:], sample_rate=SAMPLE_RATE)\n",
        "        mel_spectrograms.append(mel_spectrogram)\n",
        "        data = data.append(data.iloc[i], ignore_index=True)\n",
        "    print(\"\\r Processed {}/{} files\".format(i,len(signals)),end='')"
      ]
    },
    {
      "cell_type": "markdown",
      "metadata": {
        "id": "B18kjcXJaTUp"
      },
      "source": [
        "# Building CNN + Attention + LSTM Model"
      ]
    },
    {
      "cell_type": "code",
      "execution_count": null,
      "metadata": {
        "id": "_fIuMvq5e6wO"
      },
      "outputs": [],
      "source": [
        "class ParallelModel(nn.Module):\n",
        "    def __init__(self,num_emotions):\n",
        "        super().__init__()\n",
        "        # conv block\n",
        "        self.conv2Dblock = nn.Sequential(\n",
        "            # 1. conv block\n",
        "            nn.Conv2d(in_channels=1,\n",
        "                       out_channels=16,\n",
        "                       kernel_size=3,\n",
        "                       stride=1,\n",
        "                       padding=1\n",
        "                      ),\n",
        "            nn.BatchNorm2d(16),\n",
        "            nn.ReLU(),\n",
        "            nn.MaxPool2d(kernel_size=2, stride=2),\n",
        "            nn.Dropout(p=0.3),\n",
        "            # 2. conv block\n",
        "            nn.Conv2d(in_channels=16,\n",
        "                       out_channels=32,\n",
        "                       kernel_size=3,\n",
        "                       stride=1,\n",
        "                       padding=1\n",
        "                      ),\n",
        "            nn.BatchNorm2d(32),\n",
        "            nn.ReLU(),\n",
        "            nn.MaxPool2d(kernel_size=4, stride=4),\n",
        "            nn.Dropout(p=0.3),\n",
        "            # 3. conv block\n",
        "            nn.Conv2d(in_channels=32,\n",
        "                       out_channels=64,\n",
        "                       kernel_size=3,\n",
        "                       stride=1,\n",
        "                       padding=1\n",
        "                      ),\n",
        "            nn.BatchNorm2d(64),\n",
        "            nn.ReLU(),\n",
        "            nn.MaxPool2d(kernel_size=4, stride=4),\n",
        "            nn.Dropout(p=0.3),\n",
        "            # 4. conv block\n",
        "            nn.Conv2d(in_channels=64,\n",
        "                       out_channels=64,\n",
        "                       kernel_size=3,\n",
        "                       stride=1,\n",
        "                       padding=1\n",
        "                      ),\n",
        "            nn.BatchNorm2d(64),\n",
        "            nn.ReLU(),\n",
        "            nn.MaxPool2d(kernel_size=4, stride=4),\n",
        "            nn.Dropout(p=0.3)\n",
        "        )\n",
        "        # LSTM block\n",
        "        self.lstm_maxpool = nn.MaxPool2d(kernel_size=[2,4], stride=[2,4])\n",
        "        hidden_size = 128\n",
        "        self.lstm = nn.LSTM(input_size=64,hidden_size=hidden_size,bidirectional=True, batch_first=True)\n",
        "        self.dropout_lstm = nn.Dropout(0.1)\n",
        "        self.attention_linear = nn.Linear(2*hidden_size,1) # 2*hidden_size for the 2 outputs of bidir LSTM\n",
        "        # Linear softmax layer\n",
        "        self.out_linear = nn.Linear(2*hidden_size+256,num_emotions)\n",
        "        self.dropout_linear = nn.Dropout(p=0)\n",
        "        self.out_softmax = nn.Softmax(dim=1)\n",
        "    def forward(self,x):\n",
        "        # conv embedding\n",
        "        conv_embedding = self.conv2Dblock(x) #(b,channel,freq,time)\n",
        "        conv_embedding = torch.flatten(conv_embedding, start_dim=1) # do not flatten batch dimension\n",
        "        # lstm embedding\n",
        "        x_reduced = self.lstm_maxpool(x)\n",
        "        x_reduced = torch.squeeze(x_reduced,1)\n",
        "        x_reduced = x_reduced.permute(0,2,1) # (b,t,freq)\n",
        "        lstm_embedding, (h,c) = self.lstm(x_reduced) # (b, time, hidden_size*2)\n",
        "        lstm_embedding = self.dropout_lstm(lstm_embedding)\n",
        "        batch_size,T,_ = lstm_embedding.shape\n",
        "        attention_weights = [None]*T\n",
        "        for t in range(T):\n",
        "            embedding = lstm_embedding[:,t,:]\n",
        "            attention_weights[t] = self.attention_linear(embedding)\n",
        "        attention_weights_norm = nn.functional.softmax(torch.stack(attention_weights,-1),-1)\n",
        "        attention = torch.bmm(attention_weights_norm,lstm_embedding) # (Bx1xT)*(B,T,hidden_size*2)=(B,1,2*hidden_size)\n",
        "        attention = torch.squeeze(attention, 1)\n",
        "        # concatenate\n",
        "        complete_embedding = torch.cat([conv_embedding, attention], dim=1)\n",
        "\n",
        "        output_logits = self.out_linear(complete_embedding)\n",
        "        output_logits = self.dropout_linear(output_logits)\n",
        "        output_softmax = self.out_softmax(output_logits)\n",
        "        return output_logits, output_softmax, attention_weights_norm"
      ]
    },
    {
      "cell_type": "code",
      "execution_count": null,
      "metadata": {
        "id": "SMhEvAhofgcs"
      },
      "outputs": [],
      "source": [
        "def loss_fnc(predictions, targets):\n",
        "    return nn.CrossEntropyLoss()(input=predictions,target=targets)"
      ]
    },
    {
      "cell_type": "markdown",
      "metadata": {
        "id": "9kYPWsyda_EE"
      },
      "source": [
        "# Trainer Function"
      ]
    },
    {
      "cell_type": "code",
      "execution_count": null,
      "metadata": {
        "id": "Iqv_3wQbfkN4"
      },
      "outputs": [],
      "source": [
        "def make_train_step(model, loss_fnc, optimizer):\n",
        "    def train_step(X,Y):\n",
        "        # set model to train mode\n",
        "        model.train()\n",
        "        # forward pass\n",
        "        output_logits, output_softmax, attention_weights_norm = model(X)\n",
        "        predictions = torch.argmax(output_softmax,dim=1)\n",
        "        accuracy = torch.sum(Y==predictions)/float(len(Y))\n",
        "        # compute loss\n",
        "        loss = loss_fnc(output_logits, Y)\n",
        "        # compute gradients\n",
        "        loss.backward()\n",
        "        # update parameters and zero gradients\n",
        "        optimizer.step()\n",
        "        optimizer.zero_grad()\n",
        "        return loss.item(), accuracy*100\n",
        "    return train_step"
      ]
    },
    {
      "cell_type": "markdown",
      "metadata": {
        "id": "T1ufFYHubPDY"
      },
      "source": [
        "# Validation Function"
      ]
    },
    {
      "cell_type": "code",
      "execution_count": null,
      "metadata": {
        "id": "nY7M9cmRfnpc"
      },
      "outputs": [],
      "source": [
        "def make_validate_fnc(model,loss_fnc):\n",
        "    def validate(X,Y):\n",
        "        with torch.no_grad():\n",
        "            model.eval()\n",
        "            output_logits, output_softmax, attention_weights_norm = model(X)\n",
        "            predictions = torch.argmax(output_softmax,dim=1)\n",
        "            accuracy = torch.sum(Y==predictions)/float(len(Y))\n",
        "            loss = loss_fnc(output_logits,Y)\n",
        "        return loss.item(), accuracy*100, predictions\n",
        "    return validate"
      ]
    },
    {
      "cell_type": "code",
      "execution_count": null,
      "metadata": {
        "colab": {
          "base_uri": "https://localhost:8080/"
        },
        "id": "2Z6EYF50fp1f",
        "outputId": "1c480bab-c35a-49bb-9d1b-5cae8bab23a3"
      },
      "outputs": [
        {
          "output_type": "stream",
          "name": "stdout",
          "text": [
            "Shape of data:  (4320, 1, 128, 563)\n"
          ]
        }
      ],
      "source": [
        "# Stacking Data\n",
        "\n",
        "X = np.stack(mel_spectrograms,axis=0)\n",
        "X = np.expand_dims(X,1)\n",
        "print('Shape of data: ',X.shape)\n",
        "\n",
        "del mel_spectrograms\n",
        "del signals"
      ]
    },
    {
      "cell_type": "markdown",
      "metadata": {
        "id": "RmdHgcJnbu30"
      },
      "source": [
        "# Data Preprocessing"
      ]
    },
    {
      "cell_type": "code",
      "execution_count": null,
      "metadata": {
        "colab": {
          "base_uri": "https://localhost:8080/"
        },
        "id": "dT0MMKomfyBO",
        "outputId": "ae48138a-58e3-4b4c-a8b8-e3d341ad45c1"
      },
      "outputs": [
        {
          "output_type": "stream",
          "name": "stdout",
          "text": [
            "X_train:(3450, 1, 128, 563), Y_train:(3450,)\n",
            "X_val:(435, 1, 128, 563), Y_val:(435,)\n",
            "X_test:(435, 1, 128, 563), Y_test:(435,)\n",
            "Number of unique indexes is 4320, out of 4320\n"
          ]
        }
      ],
      "source": [
        "# Splitting Data: (Train, Val, Test) --> (80%,10%,10%)\n",
        "\n",
        "train_ind,test_ind,val_ind = [],[],[]\n",
        "X_train,X_val,X_test = [],[],[]\n",
        "Y_train,Y_val,Y_test = [],[],[]\n",
        "for emotion in range(len(EMOTIONS)):\n",
        "    emotion_ind = list(data.loc[data.Emotion==emotion,'Emotion'].index)\n",
        "    emotion_ind = np.random.permutation(emotion_ind)\n",
        "    m = len(emotion_ind)\n",
        "    ind_train = emotion_ind[:int(0.8*m)]\n",
        "    ind_val = emotion_ind[int(0.8*m):int(0.9*m)]\n",
        "    ind_test = emotion_ind[int(0.9*m):]\n",
        "    X_train.append(X[ind_train,:,:,:])\n",
        "    Y_train.append(np.array([emotion]*len(ind_train),dtype=np.int32))\n",
        "    X_val.append(X[ind_val,:,:,:])\n",
        "    Y_val.append(np.array([emotion]*len(ind_val),dtype=np.int32))\n",
        "    X_test.append(X[ind_test,:,:,:])\n",
        "    Y_test.append(np.array([emotion]*len(ind_test),dtype=np.int32))\n",
        "    train_ind.append(ind_train)\n",
        "    test_ind.append(ind_test)\n",
        "    val_ind.append(ind_val)\n",
        "X_train = np.concatenate(X_train,0)\n",
        "X_val = np.concatenate(X_val,0)\n",
        "X_test = np.concatenate(X_test,0)\n",
        "Y_train = np.concatenate(Y_train,0)\n",
        "Y_val = np.concatenate(Y_val,0)\n",
        "Y_test = np.concatenate(Y_test,0)\n",
        "train_ind = np.concatenate(train_ind,0)\n",
        "val_ind = np.concatenate(val_ind,0)\n",
        "test_ind = np.concatenate(test_ind,0)\n",
        "print(f'X_train:{X_train.shape}, Y_train:{Y_train.shape}')\n",
        "print(f'X_val:{X_val.shape}, Y_val:{Y_val.shape}')\n",
        "print(f'X_test:{X_test.shape}, Y_test:{Y_test.shape}')\n",
        "# check if all are unique\n",
        "unique, count = np.unique(np.concatenate([train_ind,test_ind,val_ind],0), return_counts=True)\n",
        "print(\"Number of unique indexes is {}, out of {}\".format(sum(count==1), X.shape[0]))\n",
        "\n",
        "del X"
      ]
    },
    {
      "cell_type": "code",
      "execution_count": null,
      "metadata": {
        "id": "qAkKghLcf4DR"
      },
      "outputs": [],
      "source": [
        "# Scaling Data\n",
        "\n",
        "scaler = StandardScaler()\n",
        "\n",
        "b,c,h,w = X_train.shape\n",
        "X_train = np.reshape(X_train, newshape=(b,-1))\n",
        "X_train = scaler.fit_transform(X_train)\n",
        "X_train = np.reshape(X_train, newshape=(b,c,h,w))\n",
        "\n",
        "b,c,h,w = X_test.shape\n",
        "X_test = np.reshape(X_test, newshape=(b,-1))\n",
        "X_test = scaler.transform(X_test)\n",
        "X_test = np.reshape(X_test, newshape=(b,c,h,w))\n",
        "\n",
        "b,c,h,w = X_val.shape\n",
        "X_val = np.reshape(X_val, newshape=(b,-1))\n",
        "X_val = scaler.transform(X_val)\n",
        "X_val = np.reshape(X_val, newshape=(b,c,h,w))"
      ]
    },
    {
      "cell_type": "markdown",
      "metadata": {
        "id": "1WkQj1f-b-K8"
      },
      "source": [
        "# Training"
      ]
    },
    {
      "cell_type": "code",
      "execution_count": null,
      "metadata": {
        "colab": {
          "base_uri": "https://localhost:8080/"
        },
        "id": "FH_TDJzmgdrD",
        "outputId": "95c780e6-b69d-4d13-96eb-4bb3ca97f22a"
      },
      "outputs": [
        {
          "output_type": "stream",
          "name": "stdout",
          "text": [
            "Selected device is cuda\n",
            "Number of trainable params:  263593\n",
            " Epoch 0: iteration 106/107\n",
            "Epoch 0 --> loss:2.1138, acc:21.04%, val_loss:2.0256, val_acc:18.85%\n",
            " Epoch 1: iteration 106/107\n",
            "Epoch 1 --> loss:1.8540, acc:29.54%, val_loss:1.7733, val_acc:33.56%\n",
            " Epoch 2: iteration 106/107\n",
            "Epoch 2 --> loss:1.7692, acc:33.80%, val_loss:1.6781, val_acc:39.08%\n",
            " Epoch 3: iteration 106/107\n",
            "Epoch 3 --> loss:1.6568, acc:37.71%, val_loss:1.6418, val_acc:38.62%\n",
            " Epoch 4: iteration 106/107\n",
            "Epoch 4 --> loss:1.5822, acc:39.62%, val_loss:1.5233, val_acc:45.75%\n",
            " Epoch 5: iteration 106/107\n",
            "Epoch 5 --> loss:1.5524, acc:39.74%, val_loss:1.5224, val_acc:45.98%\n",
            " Epoch 6: iteration 106/107\n",
            "Epoch 6 --> loss:1.4958, acc:43.91%, val_loss:1.4611, val_acc:49.43%\n",
            " Epoch 7: iteration 106/107\n",
            "Epoch 7 --> loss:1.4671, acc:44.00%, val_loss:1.4730, val_acc:49.20%\n",
            " Epoch 8: iteration 106/107\n",
            "Epoch 8 --> loss:1.3991, acc:46.84%, val_loss:1.4586, val_acc:47.82%\n",
            " Epoch 9: iteration 106/107\n",
            "Epoch 9 --> loss:1.3665, acc:47.74%, val_loss:1.3702, val_acc:54.94%\n",
            " Epoch 10: iteration 106/107\n",
            "Epoch 10 --> loss:1.3156, acc:50.46%, val_loss:1.3545, val_acc:51.95%\n",
            " Epoch 11: iteration 106/107\n",
            "Epoch 11 --> loss:1.2830, acc:51.25%, val_loss:1.3737, val_acc:45.75%\n",
            " Epoch 12: iteration 106/107\n",
            "Epoch 12 --> loss:1.2435, acc:52.00%, val_loss:1.2999, val_acc:49.43%\n",
            " Epoch 13: iteration 106/107\n",
            "Epoch 13 --> loss:1.2382, acc:53.25%, val_loss:1.1810, val_acc:57.24%\n",
            " Epoch 14: iteration 106/107\n",
            "Epoch 14 --> loss:1.1916, acc:55.16%, val_loss:1.0979, val_acc:63.45%\n",
            " Epoch 15: iteration 106/107\n",
            "Epoch 15 --> loss:1.1434, acc:57.13%, val_loss:1.1031, val_acc:62.53%\n",
            " Epoch 16: iteration 106/107\n",
            "Epoch 16 --> loss:1.0948, acc:60.09%, val_loss:1.0812, val_acc:64.60%\n",
            " Epoch 17: iteration 106/107\n",
            "Epoch 17 --> loss:1.0957, acc:58.52%, val_loss:1.1141, val_acc:61.15%\n",
            " Epoch 18: iteration 106/107\n",
            "Epoch 18 --> loss:1.0401, acc:60.75%, val_loss:1.0554, val_acc:62.76%\n",
            " Epoch 19: iteration 106/107\n",
            "Epoch 19 --> loss:1.0164, acc:61.45%, val_loss:1.1079, val_acc:57.24%\n",
            " Epoch 20: iteration 106/107\n",
            "Epoch 20 --> loss:1.0041, acc:62.93%, val_loss:0.9279, val_acc:68.51%\n",
            " Epoch 21: iteration 106/107\n",
            "Epoch 21 --> loss:0.9697, acc:63.88%, val_loss:0.9570, val_acc:66.90%\n",
            " Epoch 22: iteration 106/107\n",
            "Epoch 22 --> loss:0.9240, acc:65.65%, val_loss:0.9244, val_acc:67.82%\n",
            " Epoch 23: iteration 106/107\n",
            "Epoch 23 --> loss:0.8913, acc:66.35%, val_loss:0.8730, val_acc:70.34%\n",
            " Epoch 24: iteration 106/107\n",
            "Epoch 24 --> loss:0.8772, acc:67.30%, val_loss:0.8406, val_acc:70.11%\n",
            " Epoch 25: iteration 106/107\n",
            "Epoch 25 --> loss:0.8264, acc:69.22%, val_loss:0.7735, val_acc:73.10%\n",
            " Epoch 26: iteration 106/107\n",
            "Epoch 26 --> loss:0.7991, acc:70.43%, val_loss:0.8279, val_acc:70.57%\n",
            " Epoch 27: iteration 106/107\n",
            "Epoch 27 --> loss:0.7813, acc:71.54%, val_loss:0.7619, val_acc:74.71%\n",
            " Epoch 28: iteration 106/107\n",
            "Epoch 28 --> loss:0.7544, acc:71.88%, val_loss:0.9925, val_acc:62.76%\n",
            " Epoch 29: iteration 106/107\n",
            "Epoch 29 --> loss:0.7221, acc:74.12%, val_loss:0.8004, val_acc:71.72%\n",
            " Epoch 30: iteration 106/107\n",
            "Epoch 30 --> loss:0.7140, acc:73.97%, val_loss:0.6930, val_acc:75.17%\n",
            " Epoch 31: iteration 106/107\n",
            "Epoch 31 --> loss:0.6710, acc:74.58%, val_loss:0.6304, val_acc:79.54%\n",
            " Epoch 32: iteration 106/107\n",
            "Epoch 32 --> loss:0.6327, acc:77.10%, val_loss:0.6434, val_acc:77.47%\n",
            " Epoch 33: iteration 106/107\n",
            "Epoch 33 --> loss:0.6353, acc:76.14%, val_loss:0.6312, val_acc:78.39%\n",
            " Epoch 34: iteration 106/107\n",
            "Epoch 34 --> loss:0.6038, acc:76.75%, val_loss:0.6946, val_acc:74.25%\n",
            " Epoch 35: iteration 106/107\n",
            "Epoch 35 --> loss:0.5847, acc:78.70%, val_loss:0.6761, val_acc:75.17%\n",
            " Epoch 36: iteration 106/107\n",
            "Epoch 36 --> loss:0.5860, acc:78.61%, val_loss:0.5671, val_acc:81.61%\n",
            " Epoch 37: iteration 106/107\n",
            "Epoch 37 --> loss:0.5413, acc:80.03%, val_loss:0.5375, val_acc:83.45%\n",
            " Epoch 38: iteration 106/107\n",
            "Epoch 38 --> loss:0.5187, acc:81.33%, val_loss:0.5930, val_acc:78.39%\n",
            " Epoch 39: iteration 106/107\n",
            "Epoch 39 --> loss:0.4813, acc:82.43%, val_loss:0.5408, val_acc:82.53%\n",
            " Epoch 40: iteration 106/107\n",
            "Epoch 40 --> loss:0.4763, acc:82.43%, val_loss:0.6014, val_acc:78.39%\n",
            " Epoch 41: iteration 106/107\n",
            "Epoch 41 --> loss:0.4560, acc:82.84%, val_loss:0.4441, val_acc:85.98%\n",
            " Epoch 42: iteration 106/107\n",
            "Epoch 42 --> loss:0.4476, acc:83.51%, val_loss:0.5435, val_acc:81.84%\n",
            " Epoch 43: iteration 106/107\n",
            "Epoch 43 --> loss:0.4189, acc:83.88%, val_loss:0.4654, val_acc:83.68%\n",
            " Epoch 44: iteration 106/107\n",
            "Epoch 44 --> loss:0.4188, acc:84.38%, val_loss:0.4125, val_acc:87.82%\n",
            " Epoch 45: iteration 106/107\n",
            "Epoch 45 --> loss:0.3898, acc:86.14%, val_loss:0.4040, val_acc:87.82%\n",
            " Epoch 46: iteration 106/107\n",
            "Epoch 46 --> loss:0.3496, acc:87.45%, val_loss:0.4049, val_acc:88.28%\n",
            " Epoch 47: iteration 106/107\n",
            "Epoch 47 --> loss:0.3581, acc:86.61%, val_loss:0.5169, val_acc:82.30%\n",
            " Epoch 48: iteration 106/107\n",
            "Epoch 48 --> loss:0.3585, acc:86.81%, val_loss:0.4014, val_acc:87.36%\n",
            " Epoch 49: iteration 106/107\n",
            "Epoch 49 --> loss:0.3318, acc:88.03%, val_loss:0.3881, val_acc:89.43%\n",
            " Epoch 50: iteration 106/107\n",
            "Epoch 50 --> loss:0.3298, acc:87.74%, val_loss:0.3645, val_acc:91.03%\n",
            " Epoch 51: iteration 106/107\n",
            "Epoch 51 --> loss:0.2995, acc:89.33%, val_loss:0.3978, val_acc:87.36%\n",
            " Epoch 52: iteration 106/107\n",
            "Epoch 52 --> loss:0.2801, acc:90.20%, val_loss:0.3126, val_acc:91.49%\n",
            " Epoch 53: iteration 106/107\n",
            "Epoch 53 --> loss:0.3042, acc:88.72%, val_loss:0.3636, val_acc:88.28%\n",
            " Epoch 54: iteration 106/107\n",
            "Epoch 54 --> loss:0.3113, acc:88.99%, val_loss:0.4397, val_acc:86.44%\n",
            " Epoch 55: iteration 106/107\n",
            "Epoch 55 --> loss:0.2773, acc:90.03%, val_loss:0.3219, val_acc:90.11%\n",
            " Epoch 56: iteration 106/107\n",
            "Epoch 56 --> loss:0.2585, acc:90.96%, val_loss:0.3437, val_acc:88.28%\n",
            " Epoch 57: iteration 106/107\n",
            "Epoch 57 --> loss:0.2343, acc:91.51%, val_loss:0.2907, val_acc:91.26%\n",
            " Epoch 58: iteration 106/107\n",
            "Epoch 58 --> loss:0.2254, acc:91.94%, val_loss:0.2880, val_acc:92.41%\n",
            " Epoch 59: iteration 106/107\n",
            "Epoch 59 --> loss:0.2270, acc:91.77%, val_loss:0.3272, val_acc:90.80%\n",
            " Epoch 60: iteration 106/107\n",
            "Epoch 60 --> loss:0.2206, acc:92.32%, val_loss:0.2987, val_acc:91.95%\n",
            " Epoch 61: iteration 106/107\n",
            "Epoch 61 --> loss:0.2163, acc:91.91%, val_loss:0.2690, val_acc:92.64%\n",
            " Epoch 62: iteration 106/107\n",
            "Epoch 62 --> loss:0.2133, acc:92.55%, val_loss:0.2627, val_acc:91.95%\n",
            " Epoch 63: iteration 106/107\n",
            "Epoch 63 --> loss:0.1951, acc:93.25%, val_loss:0.3003, val_acc:90.80%\n",
            " Epoch 64: iteration 106/107\n",
            "Epoch 64 --> loss:0.1831, acc:93.33%, val_loss:0.3102, val_acc:91.03%\n",
            " Epoch 65: iteration 106/107\n",
            "Epoch 65 --> loss:0.2248, acc:91.74%, val_loss:0.2593, val_acc:92.64%\n",
            " Epoch 66: iteration 106/107\n",
            "Epoch 66 --> loss:0.1762, acc:93.42%, val_loss:0.2693, val_acc:92.41%\n",
            " Epoch 67: iteration 106/107\n",
            "Epoch 67 --> loss:0.1831, acc:93.36%, val_loss:0.2940, val_acc:92.18%\n",
            " Epoch 68: iteration 106/107\n",
            "Epoch 68 --> loss:0.1727, acc:94.29%, val_loss:0.2472, val_acc:94.48%\n",
            " Epoch 69: iteration 106/107\n",
            "Epoch 69 --> loss:0.1751, acc:93.57%, val_loss:0.2451, val_acc:93.56%\n",
            " Epoch 70: iteration 106/107\n",
            "Epoch 70 --> loss:0.1496, acc:94.84%, val_loss:0.2190, val_acc:93.79%\n",
            " Epoch 71: iteration 106/107\n",
            "Epoch 71 --> loss:0.1377, acc:95.45%, val_loss:0.2157, val_acc:94.94%\n",
            " Epoch 72: iteration 106/107\n",
            "Epoch 72 --> loss:0.1287, acc:95.33%, val_loss:0.2179, val_acc:94.25%\n",
            " Epoch 73: iteration 106/107\n",
            "Epoch 73 --> loss:0.1216, acc:96.17%, val_loss:0.2392, val_acc:94.71%\n",
            " Epoch 74: iteration 106/107\n",
            "Epoch 74 --> loss:0.1774, acc:93.94%, val_loss:0.1983, val_acc:94.94%\n",
            " Epoch 75: iteration 106/107\n",
            "Epoch 75 --> loss:0.1921, acc:92.72%, val_loss:0.2613, val_acc:94.02%\n",
            " Epoch 76: iteration 106/107\n",
            "Epoch 76 --> loss:0.1522, acc:95.07%, val_loss:0.2329, val_acc:92.87%\n",
            " Epoch 77: iteration 106/107\n",
            "Epoch 77 --> loss:0.1446, acc:95.22%, val_loss:0.2088, val_acc:94.48%\n",
            " Epoch 78: iteration 106/107\n",
            "Epoch 78 --> loss:0.1410, acc:94.87%, val_loss:0.1933, val_acc:94.94%\n",
            " Epoch 79: iteration 106/107\n",
            "Epoch 79 --> loss:0.1237, acc:95.91%, val_loss:0.2316, val_acc:94.94%\n",
            " Epoch 80: iteration 106/107\n",
            "Epoch 80 --> loss:0.0914, acc:96.96%, val_loss:0.1805, val_acc:96.09%\n",
            " Epoch 81: iteration 106/107\n",
            "Epoch 81 --> loss:0.1239, acc:95.36%, val_loss:0.2180, val_acc:93.79%\n",
            " Epoch 82: iteration 106/107\n",
            "Epoch 82 --> loss:0.1396, acc:94.87%, val_loss:0.2136, val_acc:95.86%\n",
            " Epoch 83: iteration 106/107\n",
            "Epoch 83 --> loss:0.1238, acc:95.30%, val_loss:0.2041, val_acc:95.40%\n",
            " Epoch 84: iteration 106/107\n",
            "Epoch 84 --> loss:0.1015, acc:96.55%, val_loss:0.2213, val_acc:95.40%\n",
            " Epoch 85: iteration 106/107\n",
            "Epoch 85 --> loss:0.1138, acc:95.77%, val_loss:0.2142, val_acc:94.94%\n",
            " Epoch 86: iteration 106/107\n",
            "Epoch 86 --> loss:0.1000, acc:96.72%, val_loss:0.2346, val_acc:94.71%\n",
            " Epoch 87: iteration 106/107\n",
            "Epoch 87 --> loss:0.0947, acc:96.67%, val_loss:0.1909, val_acc:96.32%\n",
            " Epoch 88: iteration 106/107\n",
            "Epoch 88 --> loss:0.0961, acc:96.58%, val_loss:0.2004, val_acc:93.79%\n",
            " Epoch 89: iteration 106/107\n",
            "Epoch 89 --> loss:0.0993, acc:96.67%, val_loss:0.1943, val_acc:95.86%\n",
            " Epoch 90: iteration 106/107\n",
            "Epoch 90 --> loss:0.1095, acc:96.00%, val_loss:0.2247, val_acc:93.33%\n",
            " Epoch 91: iteration 106/107\n",
            "Epoch 91 --> loss:0.0911, acc:96.55%, val_loss:0.1897, val_acc:95.17%\n",
            " Epoch 92: iteration 106/107\n",
            "Epoch 92 --> loss:0.0930, acc:96.64%, val_loss:0.2107, val_acc:94.71%\n",
            " Epoch 93: iteration 106/107\n",
            "Epoch 93 --> loss:0.0773, acc:97.13%, val_loss:0.2056, val_acc:95.17%\n",
            " Epoch 94: iteration 106/107\n",
            "Epoch 94 --> loss:0.0724, acc:97.59%, val_loss:0.2091, val_acc:95.17%\n",
            " Epoch 95: iteration 106/107\n",
            "Epoch 95 --> loss:0.0769, acc:97.51%, val_loss:0.1943, val_acc:94.94%\n",
            " Epoch 96: iteration 106/107\n",
            "Epoch 96 --> loss:0.0524, acc:98.26%, val_loss:0.1609, val_acc:96.55%\n",
            " Epoch 97: iteration 106/107\n",
            "Epoch 97 --> loss:0.0719, acc:97.39%, val_loss:0.1501, val_acc:96.78%\n",
            " Epoch 98: iteration 106/107\n",
            "Epoch 98 --> loss:0.0663, acc:97.62%, val_loss:0.1853, val_acc:94.94%\n",
            " Epoch 99: iteration 106/107\n",
            "Epoch 99 --> loss:0.0827, acc:97.33%, val_loss:0.1869, val_acc:96.09%\n",
            " Epoch 100: iteration 106/107\n",
            "Epoch 100 --> loss:0.1009, acc:96.46%, val_loss:0.2369, val_acc:93.33%\n",
            " Epoch 101: iteration 106/107\n",
            "Epoch 101 --> loss:0.1030, acc:96.46%, val_loss:0.1692, val_acc:96.09%\n",
            " Epoch 102: iteration 106/107\n",
            "Epoch 102 --> loss:0.0752, acc:97.30%, val_loss:0.1487, val_acc:96.78%\n",
            " Epoch 103: iteration 106/107\n",
            "Epoch 103 --> loss:0.0799, acc:97.04%, val_loss:0.2018, val_acc:94.94%\n",
            " Epoch 104: iteration 106/107\n",
            "Epoch 104 --> loss:0.0734, acc:97.48%, val_loss:0.1507, val_acc:96.32%\n",
            " Epoch 105: iteration 106/107\n",
            "Epoch 105 --> loss:0.0821, acc:96.87%, val_loss:0.1604, val_acc:95.86%\n",
            " Epoch 106: iteration 106/107\n",
            "Epoch 106 --> loss:0.0546, acc:98.00%, val_loss:0.1510, val_acc:96.32%\n",
            " Epoch 107: iteration 106/107\n",
            "Epoch 107 --> loss:0.0585, acc:97.86%, val_loss:0.1330, val_acc:96.78%\n",
            " Epoch 108: iteration 106/107\n",
            "Epoch 108 --> loss:0.0602, acc:97.68%, val_loss:0.1682, val_acc:96.09%\n",
            " Epoch 109: iteration 106/107\n",
            "Epoch 109 --> loss:0.0456, acc:98.38%, val_loss:0.1554, val_acc:96.78%\n",
            " Epoch 110: iteration 106/107\n",
            "Epoch 110 --> loss:0.1158, acc:95.88%, val_loss:0.2808, val_acc:91.72%\n",
            " Epoch 111: iteration 106/107\n",
            "Epoch 111 --> loss:0.1149, acc:95.54%, val_loss:0.1622, val_acc:96.78%\n",
            " Epoch 112: iteration 106/107\n",
            "Epoch 112 --> loss:0.0589, acc:98.09%, val_loss:0.2245, val_acc:94.71%\n",
            " Epoch 113: iteration 106/107\n",
            "Epoch 113 --> loss:0.0485, acc:98.38%, val_loss:0.1401, val_acc:97.24%\n",
            " Epoch 114: iteration 106/107\n",
            "Epoch 114 --> loss:0.0566, acc:97.91%, val_loss:0.1439, val_acc:96.55%\n",
            " Epoch 115: iteration 106/107\n",
            "Epoch 115 --> loss:0.0530, acc:98.14%, val_loss:0.1686, val_acc:95.63%\n",
            " Epoch 116: iteration 106/107\n",
            "Epoch 116 --> loss:0.0489, acc:98.29%, val_loss:0.1565, val_acc:97.01%\n",
            " Epoch 117: iteration 106/107\n",
            "Epoch 117 --> loss:0.0445, acc:98.46%, val_loss:0.1529, val_acc:97.47%\n",
            " Epoch 118: iteration 106/107\n",
            "Epoch 118 --> loss:0.0501, acc:98.23%, val_loss:0.1685, val_acc:96.32%\n",
            " Epoch 119: iteration 106/107\n",
            "Epoch 119 --> loss:0.0395, acc:98.49%, val_loss:0.1469, val_acc:96.78%\n",
            " Epoch 120: iteration 106/107\n",
            "Epoch 120 --> loss:0.0767, acc:97.16%, val_loss:0.1730, val_acc:94.94%\n",
            " Epoch 121: iteration 106/107\n",
            "Epoch 121 --> loss:0.0663, acc:97.59%, val_loss:0.1683, val_acc:96.55%\n",
            " Epoch 122: iteration 106/107\n",
            "Epoch 122 --> loss:0.0756, acc:97.16%, val_loss:0.2045, val_acc:94.25%\n",
            " Epoch 123: iteration 106/107\n",
            "Epoch 123 --> loss:0.0449, acc:98.38%, val_loss:0.1378, val_acc:97.01%\n",
            " Epoch 124: iteration 106/107\n",
            "Epoch 124 --> loss:0.0448, acc:98.32%, val_loss:0.1256, val_acc:97.24%\n",
            " Epoch 125: iteration 106/107\n",
            "Epoch 125 --> loss:0.0450, acc:98.29%, val_loss:0.1763, val_acc:96.32%\n",
            " Epoch 126: iteration 106/107\n",
            "Epoch 126 --> loss:0.0728, acc:97.10%, val_loss:0.1653, val_acc:96.32%\n",
            " Epoch 127: iteration 106/107\n",
            "Epoch 127 --> loss:0.0510, acc:98.06%, val_loss:0.1467, val_acc:96.32%\n",
            " Epoch 128: iteration 106/107\n",
            "Epoch 128 --> loss:0.0322, acc:98.93%, val_loss:0.1270, val_acc:97.01%\n",
            " Epoch 129: iteration 106/107\n",
            "Epoch 129 --> loss:0.0267, acc:99.01%, val_loss:0.1298, val_acc:97.01%\n",
            " Epoch 130: iteration 106/107\n",
            "Epoch 130 --> loss:0.0295, acc:98.78%, val_loss:0.1422, val_acc:96.32%\n",
            " Epoch 131: iteration 106/107\n",
            "Epoch 131 --> loss:0.0870, acc:96.90%, val_loss:0.2068, val_acc:93.56%\n",
            " Epoch 132: iteration 106/107\n",
            "Epoch 132 --> loss:0.0848, acc:96.58%, val_loss:0.1843, val_acc:96.09%\n",
            " Epoch 133: iteration 106/107\n",
            "Epoch 133 --> loss:0.0658, acc:97.59%, val_loss:0.1563, val_acc:96.09%\n",
            " Epoch 134: iteration 106/107\n",
            "Epoch 134 --> loss:0.0435, acc:98.35%, val_loss:0.2063, val_acc:95.40%\n"
          ]
        }
      ],
      "source": [
        "EPOCHS=135\n",
        "DATASET_SIZE = X_train.shape[0]\n",
        "BATCH_SIZE = 32\n",
        "device = 'cuda' if torch.cuda.is_available() else 'cpu'\n",
        "print('Selected device is {}'.format(device))\n",
        "model = ParallelModel(num_emotions=len(EMOTIONS)).to(device)\n",
        "print('Number of trainable params: ',sum(p.numel() for p in model.parameters()) )\n",
        "OPTIMIZER = torch.optim.SGD(model.parameters(),lr=0.01, weight_decay=1e-3, momentum=0.8)\n",
        "\n",
        "train_step = make_train_step(model, loss_fnc, optimizer=OPTIMIZER)\n",
        "validate = make_validate_fnc(model,loss_fnc)\n",
        "losses=[]\n",
        "val_losses = []\n",
        "for epoch in range(EPOCHS):\n",
        "    # schuffle data\n",
        "    ind = np.random.permutation(DATASET_SIZE)\n",
        "    X_train = X_train[ind,:,:,:]\n",
        "    Y_train = Y_train[ind]\n",
        "    epoch_acc = 0\n",
        "    epoch_loss = 0\n",
        "    iters = int(DATASET_SIZE / BATCH_SIZE)\n",
        "    for i in range(iters):\n",
        "        batch_start = i * BATCH_SIZE\n",
        "        batch_end = min(batch_start + BATCH_SIZE, DATASET_SIZE)\n",
        "        actual_batch_size = batch_end-batch_start\n",
        "        X = X_train[batch_start:batch_end,:,:,:]\n",
        "        Y = Y_train[batch_start:batch_end]\n",
        "        X_tensor = torch.tensor(X,device=device).float()\n",
        "        Y_tensor = torch.tensor(Y, dtype=torch.long,device=device)\n",
        "        loss, acc = train_step(X_tensor,Y_tensor)\n",
        "        epoch_acc += acc*actual_batch_size/DATASET_SIZE\n",
        "        epoch_loss += loss*actual_batch_size/DATASET_SIZE\n",
        "        print(f\"\\r Epoch {epoch}: iteration {i}/{iters}\",end='')\n",
        "    X_val_tensor = torch.tensor(X_val,device=device).float()\n",
        "    Y_val_tensor = torch.tensor(Y_val,dtype=torch.long,device=device)\n",
        "    val_loss, val_acc, _ = validate(X_val_tensor,Y_val_tensor)\n",
        "    losses.append(epoch_loss)\n",
        "    val_losses.append(val_loss)\n",
        "    print('')\n",
        "    print(f\"Epoch {epoch} --> loss:{epoch_loss:.4f}, acc:{epoch_acc:.2f}%, val_loss:{val_loss:.4f}, val_acc:{val_acc:.2f}%\")"
      ]
    },
    {
      "cell_type": "markdown",
      "metadata": {
        "id": "uaEqGBmtcEFN"
      },
      "source": [
        "# Exporting Model"
      ]
    },
    {
      "cell_type": "code",
      "execution_count": null,
      "metadata": {
        "colab": {
          "base_uri": "https://localhost:8080/"
        },
        "id": "WyYMainiguz9",
        "outputId": "f6e0e5a2-648e-42e7-90e0-8c686071c943"
      },
      "outputs": [
        {
          "output_type": "stream",
          "name": "stdout",
          "text": [
            "Model is saved to /content/models/cnn_lstm_parallel_model.pt\n"
          ]
        }
      ],
      "source": [
        "SAVE_PATH = os.path.join(os.getcwd(),'models')\n",
        "os.makedirs('models',exist_ok=True)\n",
        "torch.save(model.state_dict(),os.path.join(SAVE_PATH,'cnn_lstm_parallel_model.pt'))\n",
        "print('Model is saved to {}'.format(os.path.join(SAVE_PATH,'cnn_lstm_parallel_model.pt')))"
      ]
    },
    {
      "cell_type": "markdown",
      "metadata": {
        "id": "Sc-Wi2E8cKUx"
      },
      "source": [
        "# Importing Saved Model"
      ]
    },
    {
      "cell_type": "code",
      "execution_count": null,
      "metadata": {
        "colab": {
          "base_uri": "https://localhost:8080/"
        },
        "id": "GpVynQR_rTJE",
        "outputId": "b0e5afd0-0832-425a-875f-4f0511e46b45"
      },
      "outputs": [
        {
          "output_type": "stream",
          "name": "stdout",
          "text": [
            "Model is loaded from /content/models/cnn_lstm_parallel_model.pt\n"
          ]
        }
      ],
      "source": [
        "LOAD_PATH = os.path.join(os.getcwd(),'models')\n",
        "model = ParallelModel(len(EMOTIONS))\n",
        "model.load_state_dict(torch.load(os.path.join(LOAD_PATH,'cnn_lstm_parallel_model.pt')))\n",
        "print('Model is loaded from {}'.format(os.path.join(LOAD_PATH,'cnn_lstm_parallel_model.pt')))"
      ]
    },
    {
      "cell_type": "markdown",
      "metadata": {
        "id": "cTUaMoVYcOS5"
      },
      "source": [
        "# Testing"
      ]
    },
    {
      "cell_type": "code",
      "execution_count": null,
      "metadata": {
        "colab": {
          "base_uri": "https://localhost:8080/"
        },
        "id": "gUNGgdpdrXWm",
        "outputId": "7e668636-d488-4eda-d6c2-a2f1a3dfcaa3"
      },
      "outputs": [
        {
          "output_type": "stream",
          "name": "stdout",
          "text": [
            "Test loss is 0.190\n",
            "Test accuracy is 95.86%\n"
          ]
        }
      ],
      "source": [
        "X_test_tensor = torch.tensor(X_test,device=device).float()\n",
        "Y_test_tensor = torch.tensor(Y_test,dtype=torch.long,device=device)\n",
        "test_loss, test_acc, predictions = validate(X_test_tensor,Y_test_tensor)\n",
        "print(f'Test loss is {test_loss:.3f}')\n",
        "print(f'Test accuracy is {test_acc:.2f}%')"
      ]
    },
    {
      "cell_type": "markdown",
      "metadata": {
        "id": "VziNKLdzcSDk"
      },
      "source": [
        "# Confusion Matrix"
      ]
    },
    {
      "cell_type": "code",
      "execution_count": null,
      "metadata": {
        "colab": {
          "base_uri": "https://localhost:8080/",
          "height": 320
        },
        "id": "iDcisEjdsHJ9",
        "outputId": "654b966b-29ba-4a45-935e-d4aa3a56d525"
      },
      "outputs": [
        {
          "output_type": "display_data",
          "data": {
            "image/png": "[encoded data removed]",
            "text/plain": [
              "<Figure size 432x288 with 2 Axes>"
            ]
          },
          "metadata": {}
        }
      ],
      "source": [
        "predictions = predictions.cpu().numpy()\n",
        "cm = confusion_matrix(Y_test, predictions)\n",
        "names = [EMOTIONS[ind] for ind in range(len(EMOTIONS))]\n",
        "df_cm = pd.DataFrame(cm, index=names, columns=names)\n",
        "# plt.figure(figsize=(10,7))\n",
        "sn.set(font_scale=1.4) # for label size\n",
        "sn.heatmap(df_cm, annot=True, annot_kws={\"size\": 16}) # font size\n",
        "plt.show()"
      ]
    },
    {
      "cell_type": "code",
      "execution_count": null,
      "metadata": {
        "colab": {
          "base_uri": "https://localhost:8080/"
        },
        "id": "SEs06yYOsPsX",
        "outputId": "bdd40f96-d6d7-4c11-967d-e54d656bea04"
      },
      "outputs": [
        {
          "output_type": "stream",
          "name": "stdout",
          "text": [
            "              precision    recall  f1-score   support\n",
            "\n",
            "           0       1.00      1.00      1.00        58\n",
            "           1       0.97      1.00      0.98        29\n",
            "           2       0.98      0.97      0.97        58\n",
            "           3       0.93      0.91      0.92        58\n",
            "           4       0.96      0.91      0.94        58\n",
            "           5       0.94      1.00      0.97        58\n",
            "           6       0.93      0.97      0.95        58\n",
            "           7       0.96      0.93      0.95        58\n",
            "\n",
            "    accuracy                           0.96       435\n",
            "   macro avg       0.96      0.96      0.96       435\n",
            "weighted avg       0.96      0.96      0.96       435\n",
            "\n"
          ]
        }
      ],
      "source": [
        "# Classificatin Report\n",
        "\n",
        "print(classification_report(Y_test, predictions))"
      ]
    },
    {
      "cell_type": "markdown",
      "metadata": {
        "id": "8XLGkNskcgqL"
      },
      "source": [
        "# Correlation between Emotion Intensity and Corectness"
      ]
    },
    {
      "cell_type": "code",
      "execution_count": null,
      "metadata": {
        "colab": {
          "base_uri": "https://localhost:8080/",
          "height": 273
        },
        "id": "zZ3KU6Als9Bz",
        "outputId": "919a558a-6b82-457d-f482-e607a051cab1"
      },
      "outputs": [
        {
          "output_type": "display_data",
          "data": {
            "image/png": "[encoded data removed]",
            "text/plain": [
              "<Figure size 432x288 with 2 Axes>"
            ]
          },
          "metadata": {}
        }
      ],
      "source": [
        "correct_strong = 0\n",
        "correct_normal = 0\n",
        "wrong_strong = 0\n",
        "wrong_normal = 0\n",
        "for i in range(len(X_test)):\n",
        "    intensity = data.loc[test_ind[i],'Emotion intensity']\n",
        "    if Y_test[i] == predictions[i]: # correct prediction\n",
        "        if  intensity == 'normal':\n",
        "            correct_normal += 1\n",
        "        else:\n",
        "            correct_strong += 1\n",
        "    else: # wrong prediction\n",
        "        if intensity == 'normal':\n",
        "            wrong_normal += 1\n",
        "        else:\n",
        "            wrong_strong += 1\n",
        "array = np.array([[wrong_normal,wrong_strong],[correct_normal,correct_strong]])\n",
        "df = pd.DataFrame(array,['wrong','correct'],['normal','strong'])\n",
        "sn.set(font_scale=1.4) # for label size\n",
        "sn.heatmap(df, annot=True, annot_kws={\"size\": 16}, fmt=\"d\") # font size\n",
        "plt.show()"
      ]
    },
    {
      "cell_type": "markdown",
      "metadata": {
        "id": "izyQK8aMcpTz"
      },
      "source": [
        "# Correlation between Gender and Corectness"
      ]
    },
    {
      "cell_type": "code",
      "execution_count": null,
      "metadata": {
        "colab": {
          "base_uri": "https://localhost:8080/",
          "height": 273
        },
        "id": "-xqn_IJ4tTeE",
        "outputId": "5377b4cb-3cc9-44f4-f458-0b2a2f5c01f5"
      },
      "outputs": [
        {
          "output_type": "display_data",
          "data": {
            "image/png": "[encoded data removed]",
            "text/plain": [
              "<Figure size 432x288 with 2 Axes>"
            ]
          },
          "metadata": {}
        }
      ],
      "source": [
        "correct_male = 0\n",
        "correct_female = 0\n",
        "wrong_male = 0\n",
        "wrong_female = 0\n",
        "for i in range(len(X_test)):\n",
        "    gender = data.loc[test_ind[i],'Gender']\n",
        "    if Y_test[i] == predictions[i]: # correct prediction\n",
        "        if  gender == 'male':\n",
        "            correct_male += 1\n",
        "        else:\n",
        "            correct_female += 1\n",
        "    else: # wrong prediction\n",
        "        if gender == 'male':\n",
        "            wrong_male += 1\n",
        "        else:\n",
        "            wrong_female += 1\n",
        "array = np.array([[wrong_male,wrong_female],[correct_male,correct_female]])\n",
        "df = pd.DataFrame(array,['wrong','correct'],['male','female'])\n",
        "sn.set(font_scale=1.4) # for label size\n",
        "sn.heatmap(df, annot=True, annot_kws={\"size\": 16},fmt=\"d\") # font size\n",
        "plt.show()"
      ]
    },
    {
      "cell_type": "markdown",
      "metadata": {
        "id": "LY9biF3fc8Ce"
      },
      "source": [
        "# Loss Plot"
      ]
    },
    {
      "cell_type": "code",
      "execution_count": null,
      "metadata": {
        "colab": {
          "base_uri": "https://localhost:8080/",
          "height": 291
        },
        "id": "eT0USRGluIjQ",
        "outputId": "83701218-fcf3-4dce-bab3-002674c03460"
      },
      "outputs": [
        {
          "output_type": "execute_result",
          "data": {
            "text/plain": [
              "<matplotlib.legend.Legend at 0x7ff2328ea910>"
            ]
          },
          "metadata": {},
          "execution_count": 33
        },
        {
          "output_type": "display_data",
          "data": {
            "image/png": "[encoded data removed]",
            "text/plain": [
              "<Figure size 432x288 with 1 Axes>"
            ]
          },
          "metadata": {}
        }
      ],
      "source": [
        "plt.plot(losses,'b')\n",
        "plt.plot(val_losses,'r')\n",
        "plt.legend(['train loss','val loss'])"
      ]
    }
  ],
  "metadata": {
    "accelerator": "GPU",
    "colab": {
      "provenance": []
    },
    "kernelspec": {
      "display_name": "Python 3 (ipykernel)",
      "language": "python",
      "name": "python3"
    },
    "language_info": {
      "codemirror_mode": {
        "name": "ipython",
        "version": 3
      },
      "file_extension": ".py",
      "mimetype": "text/x-python",
      "name": "python",
      "nbconvert_exporter": "python",
      "pygments_lexer": "ipython3",
      "version": "3.7.11"
    }
  },
  "nbformat": 4,
  "nbformat_minor": 0
}